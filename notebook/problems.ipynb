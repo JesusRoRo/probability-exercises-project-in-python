{
 "cells": [
  {
   "cell_type": "markdown",
   "id": "a41f3622",
   "metadata": {},
   "source": [
    "# Probability exercises"
   ]
  },
  {
   "cell_type": "markdown",
   "id": "a6bdbd89",
   "metadata": {},
   "source": [
    "## Exercise 1 \n",
    "\n",
    "Two dices are thrown once and the total score is observed. Use a simulation to find the estimated probability that the total score is even or greater than 7.  A simulation is a repetition of the same experiment multiple times to observe its behavior:\n",
    "\n",
    "- Run the experiment 1000 times (roll 2 dice 1000 times, and sum the number of both dices).\n",
    "- Keep track of the number of times that the sum was either greater than 7 or an even number.\n",
    "- Divide the number from step 2 by the number of iterations (1000)."
   ]
  },
  {
   "cell_type": "code",
   "execution_count": 212,
   "id": "8939d892",
   "metadata": {},
   "outputs": [
    {
     "name": "stdout",
     "output_type": "stream",
     "text": [
      "The probability of these two conditions to happen is: 65.9 %\n"
     ]
    }
   ],
   "source": [
    "# TODO\n",
    "import random\n",
    "\n",
    "grt_seven_even = 0 #Keeps the track of the sum of the two dices greater than 7 or an even number\n",
    "\n",
    "for i in range(1000): #run the loop a 1000 times\n",
    "\n",
    "    #Generate results for the two dices\n",
    "    d1 = random.randint(1, 6)\n",
    "    d2 = random.randint(1, 6)\n",
    "\n",
    "    dsum = d1 + d2\n",
    "\n",
    "    if (dsum > 7) | (dsum%2 == 0):\n",
    "        grt_seven_even +=1\n",
    "\n",
    "end_result = grt_seven_even/1000 #The end result is the sum of the two dices greater than 7 or an even number divided by the number of repetitions\n",
    "\n",
    "#To know the probability of those conditions to happen we have to multiply the end result by 100 (or 1/6+1/2)\n",
    "prob = end_result * 100\n",
    "print(\"The probability of these two conditions to happen is:\", prob, \"%\")"
   ]
  },
  {
   "cell_type": "markdown",
   "id": "55732bca",
   "metadata": {},
   "source": [
    "## Exercise 2\n",
    "\n",
    "A box contains 10 white balls, 20 red balls and 30 green balls. If we take 5 balls from the box with replacement (we take the ball, observe what color it is and put it back into the box). We want to know the probability of:\n",
    "\n",
    "1. Take 3 white and 2 red.\n",
    "2. Take all of the same color.\n",
    "\n",
    "Run the experiment 1000 times and calculate the above probabilities."
   ]
  },
  {
   "cell_type": "code",
   "execution_count": 439,
   "id": "23244d20",
   "metadata": {},
   "outputs": [
    {
     "name": "stdout",
     "output_type": "stream",
     "text": [
      "{0: 'White', 1: 'White', 2: 'White', 3: 'White', 4: 'White', 5: 'White', 6: 'White', 7: 'White', 8: 'White', 9: 'White', 10: 'Red', 11: 'Red', 12: 'Red', 13: 'Red', 14: 'Red', 15: 'Red', 16: 'Red', 17: 'Red', 18: 'Red', 19: 'Red', 20: 'Red', 21: 'Red', 22: 'Red', 23: 'Red', 24: 'Red', 25: 'Red', 26: 'Red', 27: 'Red', 28: 'Red', 29: 'Red', 30: 'Green', 31: 'Green', 32: 'Green', 33: 'Green', 34: 'Green', 35: 'Green', 36: 'Green', 37: 'Green', 38: 'Green', 39: 'Green', 40: 'Green', 41: 'Green', 42: 'Green', 43: 'Green', 44: 'Green', 45: 'Green', 46: 'Green', 47: 'Green', 48: 'Green', 49: 'Green', 50: 'Green', 51: 'Green', 52: 'Green', 53: 'Green', 54: 'Green', 55: 'Green', 56: 'Green', 57: 'Green', 58: 'Green', 59: 'Green'}\n",
      "The probability to take 3 red balls and 2 whites is: 0.8%\n",
      "The probability of taking all the balls of the same color is: 4.0%\n"
     ]
    }
   ],
   "source": [
    "ball_box = {}\n",
    "\n",
    "# Create the box of balls\n",
    "for i in range(60):\n",
    "    if i < 10:\n",
    "        ball_box[i] = \"White\"\n",
    "    elif (i > 9) and (i < 30):\n",
    "        ball_box[i] = \"Red\"\n",
    "    else:\n",
    "        ball_box[i] = \"Green\"\n",
    "\n",
    "print(ball_box)\n",
    "            \n",
    "# TODO\n",
    "import random\n",
    "import numpy as np\n",
    "\n",
    "#Aux variables\n",
    "take_wr = 0\n",
    "same_color = 0\n",
    "\n",
    "#Run the experiment 1000 times\n",
    "for i in range(1000):\n",
    "    \n",
    "    #aux list\n",
    "    balls = []\n",
    "\n",
    "    #Nested loop that limits the number of balls we can take, five in this case\n",
    "    for i in range(5): \n",
    "        #append to that list which color we picked\n",
    "        balls.append(ball_box[np.random.randint(0, 59)])\n",
    "    \n",
    "    #After the nested loop we filter the list and sum the number of colors\n",
    "    balls = np.array(balls)\n",
    "    w_balls = sum(balls == \"White\")\n",
    "    r_balls = sum(balls == \"Red\")\n",
    "    g_balls = sum(balls == \"Green\")\n",
    "\n",
    "    if(w_balls == 3) & (r_balls == 2): #These statement determines the first condition\n",
    "        take_wr += 1\n",
    "\n",
    "    if (w_balls == 5) | (r_balls == 5) | (g_balls== 5): #These statement determines the second condition\n",
    "        same_color += 1\n",
    "\n",
    "#Print the percentages\n",
    "take_wr_percentage = (take_wr/1000)*100\n",
    "same_color_percentage = (same_color/1000)*100\n",
    "\n",
    "print(f\"The probability to take 3 red balls and 2 whites is: {take_wr_percentage}%\")\n",
    "print(f\"The probability of taking all the balls of the same color is: {same_color_percentage}%\")"
   ]
  }
 ],
 "metadata": {
  "kernelspec": {
   "display_name": "Python 3",
   "language": "python",
   "name": "python3"
  },
  "language_info": {
   "codemirror_mode": {
    "name": "ipython",
    "version": 3
   },
   "file_extension": ".py",
   "mimetype": "text/x-python",
   "name": "python",
   "nbconvert_exporter": "python",
   "pygments_lexer": "ipython3",
   "version": "3.11.4"
  }
 },
 "nbformat": 4,
 "nbformat_minor": 5
}
